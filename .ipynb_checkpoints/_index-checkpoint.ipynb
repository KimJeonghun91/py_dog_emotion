{
 "cells": [
  {
   "cell_type": "markdown",
   "id": "7c91e37a",
   "metadata": {},
   "source": [
    "# 개요\n",
    "\n",
    "얼굴 표정을 통한 강아지의 감정 분석 AI 학습을 위한 영상 전처리\n",
    " \n",
    "\n",
    "# 내용\n",
    "\n",
    "1. 파일 불러오기 : 영상에 강아지가 있는지,  1 마리만 있는지 유효성 검사 실행.\n",
    "2. Alignment 를 위해 랜드마크 생성.\n",
    "3. Alignment 처리 : 학습 정확도를 올리기 위해 기울어진 얼굴을 수직으로 정렬한다.\n",
    "4. BOX 생성 및 CROP 처리 : 얼굴 외 필요없는 배경은 제거.\n",
    "5. Grayscale 처리 : RGB는 3차원의 색공간을 가지고 있다. 즉, `R : 0~255, G : 0~255, B : 0~255` 를 가지고 있으며 이를 계산하면 `255x255x255 = 16581374`란 계산을 컴퓨터가 해야하지만.. Grayscale은 `1차원인 0~255`만 따지게 되므로 연산량이 대폭 감소하며 정확도를 올릴 수 있다.\n",
    "6. 처리된 영상을 별도로 저장.\n",
    "\n",
    " \n",
    "# 개선 방향\n",
    "하나의 이미지의 여러개의 강아지 얼굴이 있을시 다중 처리할 수 있도록 개선 예정\n",
    "\n",
    "----------------\n",
    "----------------\n",
    "----------------"
   ]
  },
  {
   "cell_type": "code",
   "execution_count": 1,
   "id": "e54a346a",
   "metadata": {},
   "outputs": [],
   "source": [
    "import dlib, cv2, os, sys\n",
    "from imutils import face_utils\n",
    "from tkinter import filedialog as fd\n",
    "from tkinter import messagebox as mb\n",
    "import matplotlib.pyplot as plt\n",
    "import tkinter as tk\n",
    "import numpy as np"
   ]
  },
  {
   "cell_type": "markdown",
   "id": "5acf7be0",
   "metadata": {},
   "source": [
    "## 변수 선언 및 학습 모델 Load\n",
    "학습모델 출처 : https://github.com/kairess/dog_face_detector"
   ]
  },
  {
   "cell_type": "code",
   "execution_count": 2,
   "id": "5a5b6547",
   "metadata": {},
   "outputs": [],
   "source": [
    "img_origin = 0\n",
    "origin_height = 0\n",
    "origin_width = 0\n",
    "origin_center = 0\n",
    "img_gray = 0\n",
    "filename = ''\n",
    "img_bin = 0\n",
    "img_canny_edge = 0\n",
    "dets = []\n",
    "landmark_5 = []\n",
    "landmark_2 = []\n",
    "detector = dlib.cnn_face_detection_model_v1('dogHeadDetector.dat')\n",
    "predictor = dlib.shape_predictor('landmarkDetector.dat')"
   ]
  },
  {
   "cell_type": "markdown",
   "id": "d0211604",
   "metadata": {},
   "source": [
    "## 함수  : 로컬 파일 셀렉트"
   ]
  },
  {
   "cell_type": "code",
   "execution_count": 3,
   "id": "4d30d562",
   "metadata": {},
   "outputs": [],
   "source": [
    "def file_open():\n",
    "    global img_origin,filename,dets,origin_height,origin_width,origin_center\n",
    "    \n",
    "    filename = fd.askopenfilename()\n",
    "    img_origin = cv2.imread(filename)\n",
    "    (origin_height, origin_width) = img_origin.shape[:2]\n",
    "    origin_center = (origin_width // 2, origin_height // 2)\n",
    "    \n",
    "    dets = detector(img_origin, upsample_num_times=1)\n",
    "\n",
    "    print('강아지 얼굴 데이터')\n",
    "    print(dets)\n",
    "    print('강아지 얼굴 갯수 : '+str(len(dets)))\n",
    "    \n",
    "    if len(dets) != 1 : \n",
    "        mb.showinfo(title='', message='사진에 강아지가 0 또는 여러 마리에요. 하나인 사진을 등록해주세요.', icon='info')\n",
    "    else:\n",
    "        mb.showinfo(title='', message='등록 완료. 랜드마크를 생성해주세요.', icon='info')"
   ]
  },
  {
   "cell_type": "markdown",
   "id": "2d2f5af0",
   "metadata": {},
   "source": [
    "## 함수 : 강아지 얼굴 랜드마크 생성"
   ]
  },
  {
   "cell_type": "code",
   "execution_count": 4,
   "id": "a947436e",
   "metadata": {},
   "outputs": [],
   "source": [
    "def create_landmark():\n",
    "    global img_origin,filename,dets,landmark_5,landmark_2\n",
    "    \n",
    "    if type(img_origin) is int:\n",
    "        mb.showinfo(title='', message='먼저 파일을 선택해주세요.', icon='info')\n",
    "        \n",
    "    elif len(dets) == 0:\n",
    "        mb.showinfo(title='', message='정상적인 강아지 사진이 아닙니다. 다시 사진을 등록해주세요.', icon='info')\n",
    "        \n",
    "    else:\n",
    "        img_landmark = img_origin.copy()\n",
    "\n",
    "        #### BOX 생성 -> 기울기 조정후 생성하기.\n",
    "        for i, d in enumerate(dets):\n",
    "            print(\"Detection {}: Left: {} Top: {} Right: {} Bottom: {} Confidence: {}\".format(i, d.rect.left(), d.rect.top(), d.rect.right(), d.rect.bottom(), d.confidence))\n",
    "\n",
    "            x1, y1 = d.rect.left(), d.rect.top()\n",
    "            x2, y2 = d.rect.right(), d.rect.bottom()\n",
    "\n",
    "            cv2.rectangle(img_landmark, pt1=(x1, y1), pt2=(x2, y2), thickness=2, color=(255,0,0), lineType=cv2.LINE_AA)\n",
    "\n",
    "            \n",
    "        #### 랜드마크 생성\n",
    "        shapes = []\n",
    "\n",
    "        for i, d in enumerate(dets):\n",
    "            shape = predictor(img_origin, d.rect)\n",
    "            shape = face_utils.shape_to_np(shape)\n",
    "\n",
    "            for i, p in enumerate(shape):\n",
    "                if i == 5:\n",
    "                    landmark_5 = p\n",
    "                if i == 2:\n",
    "                    landmark_2 = p\n",
    "                    \n",
    "                shapes.append(shape)\n",
    "                cv2.circle(img_landmark, center=tuple(p), radius=3, color=(0,0,255), thickness=-1, lineType=cv2.LINE_AA)\n",
    "                cv2.putText(img_landmark, str(i), tuple(p), cv2.FONT_HERSHEY_SIMPLEX, 0.5, (255,255,255), 1, cv2.LINE_AA)\n",
    "        \n",
    "        # [선]\n",
    "        cv2.line(img_landmark, landmark_5, landmark_2, (0,255,0), 2)\n",
    "        cv2.imshow('create_landmark',img_landmark)"
   ]
  },
  {
   "cell_type": "markdown",
   "id": "6c3bc126",
   "metadata": {},
   "source": [
    "## 함수 : 강아지 얼굴 수직 정렬"
   ]
  },
  {
   "cell_type": "code",
   "execution_count": 5,
   "id": "db8e376f",
   "metadata": {},
   "outputs": [],
   "source": [
    "def image_align():\n",
    "    global img_origin,landmark_5,landmark_2,origin_height,origin_width,origin_center\n",
    "    \n",
    "    if (len(landmark_5) == 0) or len(landmark_2) == 0:\n",
    "        mb.showinfo(title='', message='먼저 랜드마크를 생성해주세요.', icon='info')\n",
    "        \n",
    "    else:\n",
    "#         print('*** 기울기 구하기 ***')\n",
    "#         print('landmark_5: '+str(landmark_5)+ ' / '+ 'landmark_2: '+str(landmark_2))\n",
    "#         slope, intercept = np.polyfit(landmark_5,landmark_2,1)\n",
    "#         print('기울기 : '+str(slope))\n",
    "        \n",
    "        \n",
    "\n",
    "        \n",
    "        eye_delta_x = landmark_2[0] - landmark_5[0]\n",
    "        eye_delta_y = landmark_2[1] - landmark_5[1]\n",
    "        degree = np.degrees(np.arctan2(eye_delta_y,eye_delta_x))\n",
    "\n",
    "        print('degree : '+str(degree))\n",
    "        rotate = cv2.getRotationMatrix2D(origin_center, degree, 1)\n",
    "        \n",
    "        img_rotated = cv2.warpAffine(img_origin, rotate, (origin_width, origin_height)) \n",
    "        cv2.imshow(\"image_align\",img_rotated)\n",
    "        \n",
    "        \n",
    "        ######################## 테스트 코드 ########################\n",
    "        img_temp = img_rotated.copy()\n",
    "        det2s = detector(img_temp, upsample_num_times=1)\n",
    "\n",
    "        #### 랜드마크 생성\n",
    "        shapes = []\n",
    "\n",
    "        for i, d in enumerate(det2s):\n",
    "            shape = predictor(img_rotated, d.rect)\n",
    "            shape = face_utils.shape_to_np(shape)\n",
    "\n",
    "            for i, p in enumerate(shape):\n",
    "                if i == 5:\n",
    "                    landmark_5 = p\n",
    "                if i == 2:\n",
    "                    landmark_2 = p\n",
    "                    \n",
    "                shapes.append(shape)\n",
    "                cv2.circle(img_temp, center=tuple(p), radius=3, color=(0,0,255), thickness=-1, lineType=cv2.LINE_AA)\n",
    "                cv2.putText(img_temp, str(i), tuple(p), cv2.FONT_HERSHEY_SIMPLEX, 0.5, (255,255,255), 1, cv2.LINE_AA)\n",
    "        \n",
    "        cv2.circle(img_temp, center=tuple((0,0)), radius=10, color=(0,255,255), thickness=-1, lineType=cv2.LINE_AA)\n",
    "        \n",
    "        # [선]\n",
    "        cv2.line(img_temp, landmark_5, landmark_2, (0,255,0), 2)\n",
    "        cv2.imshow('img_rotated',img_temp)\n",
    "        ############################################################"
   ]
  },
  {
   "cell_type": "markdown",
   "id": "8b8b6318",
   "metadata": {},
   "source": [
    "## UI 생성"
   ]
  },
  {
   "cell_type": "code",
   "execution_count": null,
   "id": "8127a313",
   "metadata": {},
   "outputs": [
    {
     "name": "stdout",
     "output_type": "stream",
     "text": [
      "강아지 얼굴 데이터\n",
      "mmod_rectangles[[(87, -5) (381, 288)]]\n",
      "강아지 얼굴 갯수 : 1\n",
      "Detection 0: Left: 87 Top: -5 Right: 381 Bottom: 288 Confidence: 0.9792781472206116\n",
      "degree : -34.78913230892208\n"
     ]
    }
   ],
   "source": [
    "window = tk.Tk()\n",
    "window.title(\"assignment\")\n",
    "\n",
    "btn_file_open = tk.Button(window, width=40, padx=5, pady=5, text='File Open...', command=file_open)\n",
    "btn_file_open.grid(row=0, column=0, sticky=tk.EW)\n",
    "\n",
    "btn_landmark = tk.Button(window, padx=5, pady=5, text='Create Landmark', command=create_landmark)\n",
    "btn_landmark.grid(row=1, column=0, sticky=tk.EW)\n",
    "\n",
    "btn_align = tk.Button(window, padx=5, pady=5, text='Image Align', command=image_align)\n",
    "btn_align.grid(row=2, column=0, sticky=tk.EW)\n",
    "\n",
    "btn_edge = tk.Button(window, padx=5, pady=5, text='Canny Edge')\n",
    "btn_edge.grid(row=3, column=0, sticky=tk.EW)\n",
    "\n",
    "\n",
    "\n",
    "window.mainloop()"
   ]
  }
 ],
 "metadata": {
  "kernelspec": {
   "display_name": "Python 3 (ipykernel)",
   "language": "python",
   "name": "python3"
  },
  "language_info": {
   "codemirror_mode": {
    "name": "ipython",
    "version": 3
   },
   "file_extension": ".py",
   "mimetype": "text/x-python",
   "name": "python",
   "nbconvert_exporter": "python",
   "pygments_lexer": "ipython3",
   "version": "3.9.7"
  }
 },
 "nbformat": 4,
 "nbformat_minor": 5
}
