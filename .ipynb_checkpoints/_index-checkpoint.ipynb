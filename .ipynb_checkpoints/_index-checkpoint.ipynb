{
 "cells": [
  {
   "cell_type": "markdown",
   "id": "c47ee446",
   "metadata": {},
   "source": [
    "# 개요\n",
    "\n",
    "얼굴 표정을 통한 강아지의 감정 분석 AI 학습을 위한 영상 전처리\n",
    " \n",
    "\n",
    "# 내용\n",
    "\n",
    "1. 파일 불러오기.\n",
    "2. 영상에 강아지가 있는지,  1 마리만 있는지 유효성 검사 실행.\n",
    "3. Grayscale 처리 : RGB는 3차원의 색공간을 가지고 있다. 즉, `R : 0~255, G : 0~255, B : 0~255` 를 가지고 있으며 이를 계산하면 `255x255x255 = 16581374`란 계산을 컴퓨터가 해야하지만.. Grayscale은 `1차원인 0~255`만 따지게 되므로 연산량이 대폭 감소하며 정확도를 올릴 수 있다.\n",
    "4. Alignment 처리 : 학습 정확도를 올리기 위해 기울어진 얼굴을 수직으로 정렬한다.\n",
    "5. Crop 처리 : 얼굴 외 필요없는 배경은 잘라낸다.\n",
    "6. 처리된 영상을 별도로 저장.\n",
    "\n",
    " \n",
    "# 개선 방향\n",
    "하나의 이미지의 여러개의 강아지 얼굴이 있을시 다중 처리할 수 있도록 개선 예정\n",
    "\n",
    "----------------"
   ]
  },
  {
   "cell_type": "code",
   "execution_count": 1,
   "id": "aeeea4fd",
   "metadata": {},
   "outputs": [],
   "source": [
    "import tkinter as tk\n",
    "from tkinter import filedialog as fd\n",
    "import dlib, cv2, os, sys\n",
    "from imutils import face_utils\n",
    "import numpy as np\n",
    "import matplotlib.pyplot as plt"
   ]
  },
  {
   "cell_type": "markdown",
   "id": "cdfdc511",
   "metadata": {},
   "source": [
    "## 변수 선언 및 학습 모델 Load\n",
    "학습모델 출처 : https://github.com/kairess/dog_face_detector"
   ]
  },
  {
   "cell_type": "code",
   "execution_count": 2,
   "id": "ae51e1f2",
   "metadata": {},
   "outputs": [],
   "source": [
    "image = 0\n",
    "img_gray = 0\n",
    "filename = ''\n",
    "img_bin = 0\n",
    "img_canny_edge = 0\n",
    "detector = dlib.cnn_face_detection_model_v1('dogHeadDetector.dat')\n",
    "predictor = dlib.shape_predictor('landmarkDetector.dat')"
   ]
  },
  {
   "cell_type": "markdown",
   "id": "662e3b58",
   "metadata": {},
   "source": [
    "## 함수 선언"
   ]
  },
  {
   "cell_type": "code",
   "execution_count": 3,
   "id": "a22c6c7b",
   "metadata": {},
   "outputs": [],
   "source": [
    "def file_open():\n",
    "    global image,filename\n",
    "    \n",
    "    filename = fd.askopenfilename()\n",
    "    print(filename)\n",
    "    image = cv2.imread(filename)\n",
    "    image = cv2.cvtColor(image, cv2.COLOR_BGR2RGB)\n",
    "    \n",
    "    dets = detector(image, upsample_num_times=1)\n",
    "\n",
    "    print(dets)\n",
    "\n",
    "    img_result = image.copy()\n",
    "\n",
    "    for i, d in enumerate(dets):\n",
    "        print(\"Detection {}: Left: {} Top: {} Right: {} Bottom: {} Confidence: {}\".format(i, d.rect.left(), d.rect.top(), d.rect.right(), d.rect.bottom(), d.confidence))\n",
    "\n",
    "        x1, y1 = d.rect.left(), d.rect.top()\n",
    "        x2, y2 = d.rect.right(), d.rect.bottom()\n",
    "\n",
    "        cv2.rectangle(img_result, pt1=(x1, y1), pt2=(x2, y2), thickness=2, color=(255,0,0), lineType=cv2.LINE_AA)\n",
    "\n",
    "#     plt.figure(figsize=(16, 16))\n",
    "#     plt.imshow(img_result)\n",
    "    cv2.imshow(filename,img_result)"
   ]
  },
  {
   "cell_type": "markdown",
   "id": "00db7833",
   "metadata": {},
   "source": [
    "## UI 생성"
   ]
  },
  {
   "cell_type": "code",
   "execution_count": null,
   "id": "3238c116",
   "metadata": {},
   "outputs": [
    {
     "name": "stdout",
     "output_type": "stream",
     "text": [
      "/Users/righthot/Documents/dev/python-work/py_dog_emotion/img/00001_dog.jpg\n",
      "mmod_rectangles[[(117, 25) (410, 318)]]\n",
      "Detection 0: Left: 117 Top: 25 Right: 410 Bottom: 318 Confidence: 1.0347568988800049\n"
     ]
    }
   ],
   "source": [
    "window = tk.Tk()\n",
    "window.title(\"assignment\")\n",
    "\n",
    "btn_file_open = tk.Button(window, width=40, padx=5, pady=5, text='File Open...', command=file_open)\n",
    "btn_file_open.grid(row=0, column=0, sticky=tk.EW)\n",
    "\n",
    "btn_gray = tk.Button(window, padx=5, pady=5, text='Gray Conversion')\n",
    "btn_gray.grid(row=1, column=0, sticky=tk.EW)\n",
    "\n",
    "btn_binarize = tk.Button(window, padx=5, pady=5, text='Binarization')\n",
    "btn_binarize.grid(row=2, column=0, sticky=tk.EW)\n",
    "\n",
    "btn_edge = tk.Button(window, padx=5, pady=5, text='Canny Edge')\n",
    "btn_edge.grid(row=3, column=0, sticky=tk.EW)\n",
    "\n",
    "btn_end_program = tk.Button(window, padx=5, pady=5, text='Exit')\n",
    "btn_end_program.grid(row=4, column=0, sticky=tk.EW)\n",
    "\n",
    "\n",
    "window.mainloop()"
   ]
  }
 ],
 "metadata": {
  "kernelspec": {
   "display_name": "Python 3 (ipykernel)",
   "language": "python",
   "name": "python3"
  },
  "language_info": {
   "codemirror_mode": {
    "name": "ipython",
    "version": 3
   },
   "file_extension": ".py",
   "mimetype": "text/x-python",
   "name": "python",
   "nbconvert_exporter": "python",
   "pygments_lexer": "ipython3",
   "version": "3.9.7"
  }
 },
 "nbformat": 4,
 "nbformat_minor": 5
}
