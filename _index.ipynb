{
 "cells": [
  {
   "cell_type": "markdown",
   "id": "7c91e37a",
   "metadata": {},
   "source": [
    "# 개요\n",
    "\n",
    "얼굴 표정을 통한 강아지의 감정 분석 AI 학습을 위한 영상 전처리\n",
    " \n",
    "\n",
    "# 내용\n",
    "\n",
    "1. 파일 불러오기.\n",
    "2. 영상에 강아지가 있는지,  1 마리만 있는지 유효성 검사 실행.\n",
    "3. Grayscale 처리 : RGB는 3차원의 색공간을 가지고 있다. 즉, `R : 0~255, G : 0~255, B : 0~255` 를 가지고 있으며 이를 계산하면 `255x255x255 = 16581374`란 계산을 컴퓨터가 해야하지만.. Grayscale은 `1차원인 0~255`만 따지게 되므로 연산량이 대폭 감소하며 정확도를 올릴 수 있다.\n",
    "4. Alignment 처리 : 학습 정확도를 올리기 위해 기울어진 얼굴을 수직으로 정렬한다.\n",
    "5. Crop 처리 : 얼굴 외 필요없는 배경은 잘라낸다.\n",
    "6. 처리된 영상을 별도로 저장.\n",
    "\n",
    " \n",
    "# 개선 방향\n",
    "하나의 이미지의 여러개의 강아지 얼굴이 있을시 다중 처리할 수 있도록 개선 예정\n",
    "\n",
    "----------------"
   ]
  },
  {
   "cell_type": "code",
   "execution_count": 1,
   "id": "e54a346a",
   "metadata": {},
   "outputs": [],
   "source": [
    "import dlib, cv2, os, sys\n",
    "from imutils import face_utils\n",
    "from tkinter import filedialog as fd\n",
    "from tkinter import messagebox as mb\n",
    "import matplotlib.pyplot as plt\n",
    "import tkinter as tk\n",
    "import numpy as np"
   ]
  },
  {
   "cell_type": "markdown",
   "id": "5acf7be0",
   "metadata": {},
   "source": [
    "## 변수 선언 및 학습 모델 Load\n",
    "학습모델 출처 : https://github.com/kairess/dog_face_detector"
   ]
  },
  {
   "cell_type": "code",
   "execution_count": 2,
   "id": "5a5b6547",
   "metadata": {},
   "outputs": [],
   "source": [
    "img_origin = 0\n",
    "img_gray = 0\n",
    "filename = ''\n",
    "img_bin = 0\n",
    "img_canny_edge = 0\n",
    "dets = []\n",
    "detector = dlib.cnn_face_detection_model_v1('dogHeadDetector.dat')\n",
    "predictor = dlib.shape_predictor('landmarkDetector.dat')"
   ]
  },
  {
   "cell_type": "markdown",
   "id": "d0211604",
   "metadata": {},
   "source": [
    "## 함수  : 로컬 파일 셀렉트"
   ]
  },
  {
   "cell_type": "code",
   "execution_count": 3,
   "id": "4d30d562",
   "metadata": {},
   "outputs": [],
   "source": [
    "def file_open():\n",
    "    global img_origin,filename,dets\n",
    "    \n",
    "    filename = fd.askopenfilename()\n",
    "    print(filename)\n",
    "    img_origin = cv2.imread(filename)\n",
    "#     image = cv2.cvtColor(image, cv2.COLOR_BGR2RGB)\n",
    "    \n",
    "    dets = detector(img_origin, upsample_num_times=1)\n",
    "\n",
    "    print('강아지 얼굴 데이터')\n",
    "    print(dets)\n",
    "    print('강아지 얼굴 갯수 : ')\n",
    "    print(len(dets))\n",
    "    \n",
    "    if len(dets) != 1 : \n",
    "        mb.showinfo(title='', message='사진에 강아지가 0 또는 여러 마리에요. 하나인 사진을 등록해주세요.', icon='info')\n",
    "    else:\n",
    "        mb.showinfo(title='', message='등록 완료. 랜드마크를 생성해주세요.', icon='info')"
   ]
  },
  {
   "cell_type": "markdown",
   "id": "6b2ca91f",
   "metadata": {},
   "source": [
    "## 함수 : 강아지 얼굴 랜드마크 생성"
   ]
  },
  {
   "cell_type": "code",
   "execution_count": 4,
   "id": "da106d7c",
   "metadata": {},
   "outputs": [],
   "source": [
    "def create_landmark():\n",
    "    global img_origin,filename,dets\n",
    "    \n",
    "    if type(img_origin) is int:\n",
    "        mb.showinfo(title='', message='먼저 파일을 선택해주세요.', icon='info')\n",
    "        \n",
    "    elif len(dets) == 0:\n",
    "        mb.showinfo(title='', message='정상적인 강아지 사진이 아닙니다. 다시 사진을 등록해주세요.', icon='info')\n",
    "        \n",
    "    else:\n",
    "        img_landmark = img_origin.copy()\n",
    "\n",
    "        #### BOX 생성\n",
    "        for i, d in enumerate(dets):\n",
    "            print(\"Detection {}: Left: {} Top: {} Right: {} Bottom: {} Confidence: {}\".format(i, d.rect.left(), d.rect.top(), d.rect.right(), d.rect.bottom(), d.confidence))\n",
    "\n",
    "            x1, y1 = d.rect.left(), d.rect.top()\n",
    "            x2, y2 = d.rect.right(), d.rect.bottom()\n",
    "\n",
    "            cv2.rectangle(img_landmark, pt1=(x1, y1), pt2=(x2, y2), thickness=2, color=(255,0,0), lineType=cv2.LINE_AA)\n",
    "\n",
    "            \n",
    "        #### 랜드마크 생성\n",
    "        shapes = []\n",
    "\n",
    "        for i, d in enumerate(dets):\n",
    "            shape = predictor(img_origin, d.rect)\n",
    "            shape = face_utils.shape_to_np(shape)\n",
    "\n",
    "            for i, p in enumerate(shape):\n",
    "                shapes.append(shape)\n",
    "                cv2.circle(img_landmark, center=tuple(p), radius=3, color=(0,0,255), thickness=-1, lineType=cv2.LINE_AA)\n",
    "                cv2.putText(img_landmark, str(i), tuple(p), cv2.FONT_HERSHEY_SIMPLEX, 0.5, (255,255,255), 1, cv2.LINE_AA)\n",
    "        cv2.imshow(filename,img_landmark)"
   ]
  },
  {
   "cell_type": "markdown",
   "id": "8b8b6318",
   "metadata": {},
   "source": [
    "## UI 생성"
   ]
  },
  {
   "cell_type": "code",
   "execution_count": null,
   "id": "8127a313",
   "metadata": {},
   "outputs": [
    {
     "name": "stdout",
     "output_type": "stream",
     "text": [
      "/Users/righthot/Documents/dev/python-work/py_dog_emotion/img/00001_dog.jpg\n",
      "강아지 얼굴 데이터\n",
      "mmod_rectangles[[(117, 25) (410, 318)]]\n",
      "강아지 얼굴 갯수 : \n",
      "1\n",
      "Detection 0: Left: 117 Top: 25 Right: 410 Bottom: 318 Confidence: 1.0348947048187256\n"
     ]
    }
   ],
   "source": [
    "window = tk.Tk()\n",
    "window.title(\"assignment\")\n",
    "\n",
    "btn_file_open = tk.Button(window, width=40, padx=5, pady=5, text='File Open...', command=file_open)\n",
    "btn_file_open.grid(row=0, column=0, sticky=tk.EW)\n",
    "\n",
    "btn_landmark = tk.Button(window, padx=5, pady=5, text='Create Landmark', command=create_landmark)\n",
    "btn_landmark.grid(row=1, column=0, sticky=tk.EW)\n",
    "\n",
    "btn_binarize = tk.Button(window, padx=5, pady=5, text='Binarization')\n",
    "btn_binarize.grid(row=2, column=0, sticky=tk.EW)\n",
    "\n",
    "btn_edge = tk.Button(window, padx=5, pady=5, text='Canny Edge')\n",
    "btn_edge.grid(row=3, column=0, sticky=tk.EW)\n",
    "\n",
    "\n",
    "\n",
    "window.mainloop()"
   ]
  }
 ],
 "metadata": {
  "kernelspec": {
   "display_name": "Python 3 (ipykernel)",
   "language": "python",
   "name": "python3"
  },
  "language_info": {
   "codemirror_mode": {
    "name": "ipython",
    "version": 3
   },
   "file_extension": ".py",
   "mimetype": "text/x-python",
   "name": "python",
   "nbconvert_exporter": "python",
   "pygments_lexer": "ipython3",
   "version": "3.9.7"
  }
 },
 "nbformat": 4,
 "nbformat_minor": 5
}
